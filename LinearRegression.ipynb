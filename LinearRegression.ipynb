{
 "cells": [
  {
   "cell_type": "code",
   "execution_count": 5,
   "id": "fb8080c9",
   "metadata": {},
   "outputs": [
    {
     "ename": "ModuleNotFoundError",
     "evalue": "No module named 'pandas'",
     "output_type": "error",
     "traceback": [
      "\u001b[0;31m---------------------------------------------------------------------------\u001b[0m",
      "\u001b[0;31mModuleNotFoundError\u001b[0m                       Traceback (most recent call last)",
      "Cell \u001b[0;32mIn[5], line 2\u001b[0m\n\u001b[1;32m      1\u001b[0m \u001b[38;5;66;03m#Loading Libraries\u001b[39;00m\n\u001b[0;32m----> 2\u001b[0m \u001b[38;5;28;01mimport\u001b[39;00m \u001b[38;5;21;01mpandas\u001b[39;00m \u001b[38;5;28;01mas\u001b[39;00m \u001b[38;5;21;01mpd\u001b[39;00m\n\u001b[1;32m      3\u001b[0m \u001b[38;5;28;01mimport\u001b[39;00m \u001b[38;5;21;01mnumpy\u001b[39;00m \u001b[38;5;28;01mas\u001b[39;00m \u001b[38;5;21;01mnp\u001b[39;00m\n\u001b[1;32m      4\u001b[0m \u001b[38;5;28;01mfrom\u001b[39;00m \u001b[38;5;21;01msklearn\u001b[39;00m\u001b[38;5;21;01m.\u001b[39;00m\u001b[38;5;21;01mdatasets\u001b[39;00m \u001b[38;5;28;01mimport\u001b[39;00m load_boston\n",
      "\u001b[0;31mModuleNotFoundError\u001b[0m: No module named 'pandas'"
     ]
    }
   ],
   "source": [
    "#Loading Libraries\n",
    "import pandas as pd\n",
    "import numpy as np\n",
    "from sklearn.datasets import load_boston\n",
    "import matplotlib.pyplot as plt\n",
    "import seaborn as sns\n",
    "%matplotlib inline"
   ]
  },
  {
   "cell_type": "code",
   "execution_count": null,
   "id": "2457adc3",
   "metadata": {},
   "outputs": [],
   "source": [
    "#Loading the data\n",
    "boston = load_boston()"
   ]
  },
  {
   "cell_type": "code",
   "execution_count": null,
   "id": "9b1ef6d2",
   "metadata": {},
   "outputs": [],
   "source": [
    "boston.keys()"
   ]
  },
  {
   "cell_type": "code",
   "execution_count": null,
   "id": "9afdb74d",
   "metadata": {},
   "outputs": [],
   "source": [
    "print(boston.DESCR)"
   ]
  },
  {
   "cell_type": "code",
   "execution_count": null,
   "id": "6e8e672a",
   "metadata": {},
   "outputs": [],
   "source": [
    "boston"
   ]
  },
  {
   "cell_type": "code",
   "execution_count": null,
   "id": "b3fdfe95",
   "metadata": {},
   "outputs": [],
   "source": [
    "boston_df = pd.DataFrame(boston.data, columns = boston.feature_names)"
   ]
  },
  {
   "cell_type": "code",
   "execution_count": null,
   "id": "70b9e5eb",
   "metadata": {},
   "outputs": [],
   "source": [
    "boston_df"
   ]
  },
  {
   "cell_type": "code",
   "execution_count": null,
   "id": "b88f2bd6",
   "metadata": {},
   "outputs": [],
   "source": [
    "boston_df['PRICE'] = boston.target"
   ]
  },
  {
   "cell_type": "code",
   "execution_count": null,
   "id": "019684f6",
   "metadata": {},
   "outputs": [],
   "source": [
    "boston_df = boston_df.drop('Price', axis=1)\n"
   ]
  },
  {
   "cell_type": "code",
   "execution_count": null,
   "id": "bc946ecc",
   "metadata": {},
   "outputs": [],
   "source": [
    "boston_df.head(5)"
   ]
  },
  {
   "cell_type": "code",
   "execution_count": null,
   "id": "52146ab6",
   "metadata": {},
   "outputs": [],
   "source": [
    "#Checking missing values\n",
    "boston_df.isnull().sum()"
   ]
  },
  {
   "cell_type": "code",
   "execution_count": null,
   "id": "37b1c3ee",
   "metadata": {},
   "outputs": [],
   "source": [
    "boston_df.describe()"
   ]
  },
  {
   "cell_type": "markdown",
   "id": "3ead9642",
   "metadata": {},
   "source": [
    "# Exploratory Data Analysis\n",
    "#Correaltion is really important in any regression problems."
   ]
  },
  {
   "cell_type": "code",
   "execution_count": null,
   "id": "542bb8a8",
   "metadata": {},
   "outputs": [],
   "source": [
    "correlation = boston_df.corr()\n",
    "correlation"
   ]
  },
  {
   "cell_type": "code",
   "execution_count": null,
   "id": "c9f9c7e7",
   "metadata": {},
   "outputs": [],
   "source": [
    "plt.imshow(correaltion, cmap='Blues')\n",
    "plt.colorbar()\n"
   ]
  },
  {
   "cell_type": "code",
   "execution_count": null,
   "id": "3f5f9453",
   "metadata": {},
   "outputs": [],
   "source": [
    "sns.pairplot(boston_df)"
   ]
  },
  {
   "cell_type": "code",
   "execution_count": null,
   "id": "ff7f50a6",
   "metadata": {},
   "outputs": [],
   "source": [
    "plt.scatter(boston_df['CRIM'],boston_df['PRICE'])\n",
    "plt.xlabel(\"Crime\")\n",
    "plt.ylabel(\"Price\")"
   ]
  },
  {
   "cell_type": "code",
   "execution_count": null,
   "id": "007a69be",
   "metadata": {},
   "outputs": [],
   "source": [
    "plt.scatter(boston_df['RM'],boston_df['PRICE'])\n",
    "plt.xlabel(\"Averge Number of Rooms\")\n",
    "plt.ylabel(\"Price\")"
   ]
  },
  {
   "cell_type": "code",
   "execution_count": null,
   "id": "8e63babe",
   "metadata": {},
   "outputs": [],
   "source": [
    "sns.regplot(x = 'RM', y = 'PRICE', data = boston_df)"
   ]
  },
  {
   "cell_type": "code",
   "execution_count": null,
   "id": "7978b24d",
   "metadata": {},
   "outputs": [],
   "source": [
    "sns.regplot(x = 'LSTAT', y = 'PRICE', data = boston_df)"
   ]
  },
  {
   "cell_type": "code",
   "execution_count": null,
   "id": "8f929371",
   "metadata": {},
   "outputs": [],
   "source": [
    "sns.regplot(x = 'PTRATIO', y = 'PRICE', data = boston_df)"
   ]
  },
  {
   "cell_type": "code",
   "execution_count": null,
   "id": "5e3ea196",
   "metadata": {},
   "outputs": [],
   "source": [
    "#Independent and Dependent Features"
   ]
  },
  {
   "cell_type": "code",
   "execution_count": null,
   "id": "8e56d1b8",
   "metadata": {},
   "outputs": [],
   "source": [
    "x = boston_df.iloc[:,:-1]\n",
    "x.head(5)"
   ]
  },
  {
   "cell_type": "code",
   "execution_count": null,
   "id": "2fc0bc9d",
   "metadata": {},
   "outputs": [],
   "source": [
    "y = boston_df.iloc[:,-1]\n",
    "y.head(5)"
   ]
  },
  {
   "cell_type": "code",
   "execution_count": null,
   "id": "3a761ca3",
   "metadata": {},
   "outputs": [],
   "source": [
    "1.#Train Test Split\n",
    "from sklearn.model_selection import train_test_split"
   ]
  },
  {
   "cell_type": "code",
   "execution_count": null,
   "id": "0b1eaac6",
   "metadata": {},
   "outputs": [],
   "source": [
    "X_train, X_test, Y_train, Y_test = train_test_split(x,y,test_size=0.3, random_state = 42)"
   ]
  },
  {
   "cell_type": "code",
   "execution_count": null,
   "id": "14ac6d6b",
   "metadata": {},
   "outputs": [],
   "source": [
    "Y_train"
   ]
  },
  {
   "cell_type": "code",
   "execution_count": null,
   "id": "a816b388",
   "metadata": {},
   "outputs": [],
   "source": [
    "## Standardize the dataset\n",
    "from sklearn.preprocessing import StandardScaler"
   ]
  },
  {
   "cell_type": "code",
   "execution_count": null,
   "id": "c9ea551c",
   "metadata": {},
   "outputs": [],
   "source": [
    "Y_test"
   ]
  },
  {
   "cell_type": "code",
   "execution_count": null,
   "id": "b009edfc",
   "metadata": {},
   "outputs": [],
   "source": [
    "scaler = StandardScaler()\n",
    "X_train= scaler.fit_transform(X_train)\n",
    "X_test = scaler.transform(X_test)"
   ]
  },
  {
   "cell_type": "code",
   "execution_count": null,
   "id": "ab319a8b",
   "metadata": {},
   "outputs": [],
   "source": [
    "X_train"
   ]
  },
  {
   "cell_type": "code",
   "execution_count": null,
   "id": "0193fb0e",
   "metadata": {},
   "outputs": [],
   "source": [
    "X_test"
   ]
  },
  {
   "cell_type": "markdown",
   "id": "4b64d643",
   "metadata": {},
   "source": [
    "# MODEL TRAINING"
   ]
  },
  {
   "cell_type": "code",
   "execution_count": null,
   "id": "ed85d93a",
   "metadata": {},
   "outputs": [],
   "source": [
    "from sklearn.linear_model import LinearRegression"
   ]
  },
  {
   "cell_type": "code",
   "execution_count": null,
   "id": "377bb37d",
   "metadata": {},
   "outputs": [],
   "source": [
    "regression = LinearRegression()"
   ]
  },
  {
   "cell_type": "code",
   "execution_count": null,
   "id": "174be9ee",
   "metadata": {},
   "outputs": [],
   "source": [
    "regression.fit(X_train,Y_train)"
   ]
  },
  {
   "cell_type": "code",
   "execution_count": null,
   "id": "83ccdda6",
   "metadata": {},
   "outputs": [],
   "source": [
    "##print the coefficients and the intercept\n",
    "print(regression.coef_)"
   ]
  },
  {
   "cell_type": "code",
   "execution_count": null,
   "id": "16e3fb2a",
   "metadata": {},
   "outputs": [],
   "source": [
    "print(regression.intercept_)"
   ]
  },
  {
   "cell_type": "code",
   "execution_count": null,
   "id": "c6568cd7",
   "metadata": {},
   "outputs": [],
   "source": [
    "#Checking the parameters on which the model was trained\n",
    "regression.get_params()"
   ]
  },
  {
   "cell_type": "code",
   "execution_count": null,
   "id": "6ff6f17e",
   "metadata": {},
   "outputs": [],
   "source": [
    "##Prediction with the X_test data\n",
    "reg_predict = regression.predict(X_test)"
   ]
  },
  {
   "cell_type": "code",
   "execution_count": null,
   "id": "ce9be424",
   "metadata": {},
   "outputs": [],
   "source": [
    "reg_predict"
   ]
  },
  {
   "cell_type": "code",
   "execution_count": null,
   "id": "b5010339",
   "metadata": {},
   "outputs": [],
   "source": [
    "##Plot scatter plot for predictions\n",
    "plt.scatter(reg_predict,Y_test)"
   ]
  },
  {
   "cell_type": "code",
   "execution_count": null,
   "id": "9b8147c7",
   "metadata": {},
   "outputs": [],
   "source": [
    "plt.scatter(Y_test, reg_predict)"
   ]
  },
  {
   "cell_type": "code",
   "execution_count": null,
   "id": "f20ba498",
   "metadata": {},
   "outputs": [],
   "source": [
    "##Residuals\n",
    "residual = Y_test - reg_predict"
   ]
  },
  {
   "cell_type": "code",
   "execution_count": null,
   "id": "35712243",
   "metadata": {},
   "outputs": [],
   "source": [
    "residual"
   ]
  },
  {
   "cell_type": "code",
   "execution_count": null,
   "id": "1f8c7771",
   "metadata": {},
   "outputs": [],
   "source": [
    "#Plot Residuals\n",
    "sns.displot(residual)"
   ]
  },
  {
   "cell_type": "markdown",
   "id": "4cbdc73e",
   "metadata": {},
   "source": [
    "#Scatter plot with respect to predcitions and residuals\n",
    "#Uniform distribution\n",
    "plt.scatter(residual,reg_predict)"
   ]
  },
  {
   "cell_type": "code",
   "execution_count": null,
   "id": "2554f92a",
   "metadata": {},
   "outputs": [],
   "source": [
    "from sklearn.metrics import mean_squared_error\n",
    "from sklearn.metrics import mean_absolute_error\n",
    "\n",
    "print(mean_absolute_error(Y_test, reg_predict))\n",
    "print(mean_squared_error(Y_test, reg_predict))\n",
    "print(np.sqrt(mean_squared_error(Y_test, reg_predict)))\n"
   ]
  },
  {
   "cell_type": "markdown",
   "id": "ef1dab42",
   "metadata": {},
   "source": [
    "# R-SQUARE AND ADJUSTED R-SQUARE"
   ]
  },
  {
   "cell_type": "markdown",
   "id": "e9462add",
   "metadata": {},
   "source": [
    "FORMULA: R^2 = 1 - SSR(SUM OF SQUARED RESIDUALS) / SST(SUM OF SQUARED TOTALS)"
   ]
  },
  {
   "cell_type": "code",
   "execution_count": null,
   "id": "36e5b4e8",
   "metadata": {},
   "outputs": [],
   "source": [
    "from sklearn.metrics import r2_score\n",
    "score = r2_score(Y_test, reg_predict)\n",
    "print(score)"
   ]
  },
  {
   "cell_type": "markdown",
   "id": "2912c1fa",
   "metadata": {},
   "source": [
    "ADJUSTED R_SQUARED"
   ]
  },
  {
   "cell_type": "code",
   "execution_count": null,
   "id": "5e24a409",
   "metadata": {},
   "outputs": [],
   "source": [
    "1 - (1-score)*(len(Y_test)-1)/(len(Y_test) - X_test.shape[1]-1)"
   ]
  },
  {
   "cell_type": "markdown",
   "id": "b99b233f",
   "metadata": {},
   "source": [
    "# New DATA Prediction"
   ]
  },
  {
   "cell_type": "code",
   "execution_count": null,
   "id": "205bc444",
   "metadata": {},
   "outputs": [],
   "source": [
    "boston.data[0].shape"
   ]
  },
  {
   "cell_type": "code",
   "execution_count": null,
   "id": "19ad3b79",
   "metadata": {},
   "outputs": [],
   "source": [
    "boston.data[0].reshape(1,-1)"
   ]
  },
  {
   "cell_type": "code",
   "execution_count": null,
   "id": "e350386d",
   "metadata": {},
   "outputs": [],
   "source": [
    "new = scaler.transform(boston.data[0].reshape(1,-1))"
   ]
  },
  {
   "cell_type": "code",
   "execution_count": null,
   "id": "cc3bbf69",
   "metadata": {},
   "outputs": [],
   "source": [
    "regression.predict(new)"
   ]
  },
  {
   "cell_type": "markdown",
   "id": "8eab73aa",
   "metadata": {},
   "source": [
    "# PICKING THE MODEL FILE FOR DEPLOYMENT\n"
   ]
  },
  {
   "cell_type": "code",
   "execution_count": null,
   "id": "aa68db7c",
   "metadata": {},
   "outputs": [],
   "source": [
    "import pickle\n"
   ]
  },
  {
   "cell_type": "code",
   "execution_count": null,
   "id": "4b60deaf",
   "metadata": {},
   "outputs": [],
   "source": [
    "pickle.dump(regression, open('regmodel.pk1','wb'))"
   ]
  },
  {
   "cell_type": "code",
   "execution_count": null,
   "id": "f0f484d4",
   "metadata": {},
   "outputs": [],
   "source": [
    "pickled_model = pickle.load(open('regmodel.pk1','rb'))"
   ]
  },
  {
   "cell_type": "code",
   "execution_count": null,
   "id": "51201e75",
   "metadata": {},
   "outputs": [],
   "source": [
    "pickled_model.predict(scaler.transform(boston.data[0].reshape(1,-1)))"
   ]
  },
  {
   "cell_type": "code",
   "execution_count": null,
   "id": "5b61d6b5",
   "metadata": {},
   "outputs": [],
   "source": []
  }
 ],
 "metadata": {
  "kernelspec": {
   "display_name": "Python 3 (ipykernel)",
   "language": "python",
   "name": "python3"
  },
  "language_info": {
   "codemirror_mode": {
    "name": "ipython",
    "version": 3
   },
   "file_extension": ".py",
   "mimetype": "text/x-python",
   "name": "python",
   "nbconvert_exporter": "python",
   "pygments_lexer": "ipython3",
   "version": "3.9.6"
  }
 },
 "nbformat": 4,
 "nbformat_minor": 5
}
